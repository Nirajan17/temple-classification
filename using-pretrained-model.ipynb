{
 "cells": [
  {
   "cell_type": "markdown",
   "id": "13420dd3",
   "metadata": {},
   "source": [
    "### Learning to make a tensorflow dataset"
   ]
  },
  {
   "cell_type": "code",
   "execution_count": 20,
   "id": "3a4bd70e",
   "metadata": {},
   "outputs": [
    {
     "name": "stdout",
     "output_type": "stream",
     "text": [
      "Number of labeled images: 1639\n"
     ]
    }
   ],
   "source": [
    "# creating tfrecord file\n",
    "\n",
    "import tensorflow as tf\n",
    "import os\n",
    "from matplotlib.image import imread\n",
    "\n",
    "# Define the paths to your image folders\n",
    "folder_paths = {\n",
    "    'Bhaktapur-Durbar-Square': '/Users/nirajanpaudel17/Documents/Python/Major-Project/Image-Processing/Dataset/Bhaktapur-Durbar-Square',\n",
    "    'Bouddanath': '/Users/nirajanpaudel17/Documents/Python/Major-Project/Image-Processing/Dataset/Bouddanath',\n",
    "    'Pashupatinath': '/Users/nirajanpaudel17/Documents/Python/Major-Project/Image-Processing/Dataset/Pashupatinath',\n",
    "    'Patan-Durbar-Square': '/Users/nirajanpaudel17/Documents/Python/Major-Project/Image-Processing/Dataset/Patan-Durbar-Square',\n",
    "    'Swyambunath': '/Users/nirajanpaudel17/Documents/Python/Major-Project/Image-Processing/Dataset/Swyambunath'\n",
    "}\n",
    "\n",
    "# Define the output TFRecord file name\n",
    "output_directory = '/Users/nirajanpaudel17/Documents/Python/Major-Project/Temple-Classification'\n",
    "output_filename = os.path.join(output_directory, 'labeled_temples_images.tfrecord')\n",
    "\n",
    "# Initialize an empty list to store the labeled images\n",
    "labeled_images = []\n",
    "\n",
    "# Iterate over each class folder\n",
    "for class_name, folder_path in folder_paths.items():\n",
    "    \n",
    "    # Get the list of image filenames in the current class folder\n",
    "    image_filenames = os.listdir(folder_path)\n",
    "    \n",
    "\n",
    "    # Iterate over each image in the class folder\n",
    "    for image_filename in image_filenames:\n",
    "        # Create the full path to the image file\n",
    "        image_path = os.path.join(folder_path, image_filename)\n",
    "\n",
    "        try:\n",
    "            # Read the image file\n",
    "            image = tf.io.read_file(image_path)\n",
    "\n",
    "            # Decode the image file\n",
    "            image = tf.io.decode_jpeg(image)\n",
    "            \n",
    "            image = tf.io.encode_jpeg(image).numpy()\n",
    "\n",
    "\n",
    "            # Create a labeled example\n",
    "            example = tf.train.Example(features=tf.train.Features(feature={\n",
    "                'image': tf.train.Feature(bytes_list=tf.train.BytesList(value=[image])),\n",
    "                'class': tf.train.Feature(bytes_list=tf.train.BytesList(value=[class_name.encode()]))\n",
    "            }))\n",
    "\n",
    "            # Append the labeled example to the list\n",
    "            labeled_images.append(example)\n",
    "\n",
    "        except tf.errors.InvalidArgumentError:\n",
    "            print('Skipping unsupported image:', image_path)\n",
    "\n",
    "# Create a writer for the TFRecord file\n",
    "with tf.io.TFRecordWriter(output_filename) as writer:\n",
    "    # Write each labeled example to the TFRecord file\n",
    "    for example in labeled_images:\n",
    "        writer.write(example.SerializeToString())\n",
    "\n",
    "# # Print the number of labeled images\n",
    "print('Number of labeled images:', len(labeled_images))\n"
   ]
  },
  {
   "cell_type": "code",
   "execution_count": 34,
   "id": "5f625263",
   "metadata": {},
   "outputs": [
    {
     "name": "stdout",
     "output_type": "stream",
     "text": [
      "(300, 300, 3) tf.Tensor(b'Bhaktapur-Durbar-Square', shape=(), dtype=string)\n"
     ]
    }
   ],
   "source": [
    "import tensorflow as tf\n",
    "\n",
    "\n",
    "def parse_tfrecord_fn(example_proto):\n",
    "    feature_description = {\n",
    "        'image': tf.io.FixedLenFeature([], tf.string),\n",
    "        'class': tf.io.FixedLenFeature([], tf.string),\n",
    "    }\n",
    "    example = tf.io.parse_single_example(example_proto, feature_description)\n",
    "    \n",
    "    image = tf.image.decode_jpeg(example['image'], channels=3)  # Modify the decoding function as per image format\n",
    "    image = tf.cast(image, tf.float32) / 255.0\n",
    "    \n",
    "    label = tf.cast(example['class'], tf.string)\n",
    "    \n",
    "    return image, label\n",
    "\n",
    "\n",
    "# Specify the path to the TFRecord file(s)\n",
    "tfrecord_files = ['/Users/nirajanpaudel17/Documents/Python/Major-Project/Temple-Classification/labeled_temples_images.tfrecord']\n",
    "\n",
    "# Create a TFRecordDataset\n",
    "dataset = tf.data.TFRecordDataset(tfrecord_files)\n",
    "\n",
    "# Apply parsing function to the dataset\n",
    "dataset = dataset.map(parse_tfrecord_fn)\n",
    "\n",
    "# Print the first few examples in the dataset\n",
    "for image, label in dataset.take(1):\n",
    "    # Process or use the image and label as needed\n",
    "    print(image.shape, label)\n"
   ]
  },
  {
   "cell_type": "code",
   "execution_count": 37,
   "id": "0b15cb27",
   "metadata": {},
   "outputs": [
    {
     "name": "stdout",
     "output_type": "stream",
     "text": [
      "Train set size: -1\n",
      "Test set size: tf.Tensor(-1, shape=(), dtype=int64)\n"
     ]
    }
   ],
   "source": [
    "# splitting the datset into train and test set\n",
    "\n",
    "dataset = dataset.shuffle(buffer_size=1000, seed=42)\n",
    "\n",
    "# Split the dataset into train and test sets\n",
    "\n",
    "num_samples = int(dataset.cardinality().numpy())\n",
    "\n",
    "train_size = int(0.8 * num_samples)  # 80% for training\n",
    "test_size = dataset.cardinality() - train_size\n",
    "\n",
    "train_dataset = dataset.take(train_size)\n",
    "test_dataset = dataset.skip(train_size)\n",
    "\n",
    "# Print the number of samples in each set\n",
    "print(\"Train set size:\", train_size)\n",
    "print(\"Test set size:\", test_size)"
   ]
  },
  {
   "cell_type": "code",
   "execution_count": 40,
   "id": "edd8ca8c",
   "metadata": {},
   "outputs": [
    {
     "name": "stdout",
     "output_type": "stream",
     "text": [
      "(300, 300, 3) tf.Tensor(b'Bouddanath', shape=(), dtype=string)\n",
      "(300, 300, 3) tf.Tensor(b'Bouddanath', shape=(), dtype=string)\n",
      "(300, 300, 3) tf.Tensor(b'Pashupatinath', shape=(), dtype=string)\n"
     ]
    }
   ],
   "source": [
    "for image, label in train_dataset.take(3):\n",
    "    # Process or use the image and label as needed\n",
    "    print(image.shape, label)"
   ]
  },
  {
   "cell_type": "code",
   "execution_count": null,
   "id": "f73aa685",
   "metadata": {},
   "outputs": [],
   "source": []
  }
 ],
 "metadata": {
  "kernelspec": {
   "display_name": "Python 3 (ipykernel)",
   "language": "python",
   "name": "python3"
  },
  "language_info": {
   "codemirror_mode": {
    "name": "ipython",
    "version": 3
   },
   "file_extension": ".py",
   "mimetype": "text/x-python",
   "name": "python",
   "nbconvert_exporter": "python",
   "pygments_lexer": "ipython3",
   "version": "3.10.11"
  }
 },
 "nbformat": 4,
 "nbformat_minor": 5
}
